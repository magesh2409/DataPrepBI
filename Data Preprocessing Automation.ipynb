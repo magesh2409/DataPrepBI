{
 "cells": [
  {
   "cell_type": "code",
   "execution_count": 41,
   "metadata": {},
   "outputs": [],
   "source": [
    "import pandas as pd\n",
    "import numpy as np\n",
    "import math\n",
    "from scipy.stats import kstest\n",
    "import seaborn as sns\n",
    "import matplotlib.pyplot as plt\n",
    "from sklearn.linear_model import LinearRegression"
   ]
  },
  {
   "cell_type": "code",
   "execution_count": 42,
   "metadata": {},
   "outputs": [],
   "source": [
    "data=pd.read_excel(\"c:\\\\Users\\\\mages\\\\Documents\\\\Sample.xlsx\")"
   ]
  },
  {
   "cell_type": "code",
   "execution_count": 43,
   "metadata": {},
   "outputs": [
    {
     "name": "stdout",
     "output_type": "stream",
     "text": [
      "       Name  Dept   Mark  10th_Mark\n",
      "0    Magesh   ECE   98.0          1\n",
      "1  Siavnesh   ECE   99.0         80\n",
      "2     Jansi   NaN  100.0         90\n",
      "3      Raji  Chem  100.0         85\n",
      "4    Amudha   NaN    NaN         32\n"
     ]
    }
   ],
   "source": [
    "columns = data.columns\n",
    "n = len(columns)\n",
    "\n",
    "data[\"Missing_Percentage\"] =  ((data.isnull().sum(axis=1))/n)* 100\n",
    "\n",
    "data = data[data[\"Missing_Percentage\"] <= 50]\n",
    "\n",
    "data = data.drop(['Missing_Percentage'] , axis=1)\n",
    "print(data)\n"
   ]
  },
  {
   "cell_type": "code",
   "execution_count": 39,
   "metadata": {},
   "outputs": [
    {
     "name": "stdout",
     "output_type": "stream",
     "text": [
      "       Name  Dept   Mark  10th_Mark  Z-score-of-Mark  Z-score-of-10th_Mark\n",
      "0    Magesh   ECE   98.0          1        -1.305582             -1.442161\n",
      "1  Siavnesh   ECE   99.0         80        -0.261116              0.570749\n",
      "2     Jansi   NaN  100.0         90         0.783349              0.825548\n",
      "3      Raji  Chem  100.0         85         0.783349              0.698149\n",
      "4    Amudha   NaN    NaN         32              NaN             -0.652285\n"
     ]
    }
   ],
   "source": [
    "data_with_z = data\n",
    "z_columns = []\n",
    "\n",
    "for column in columns:\n",
    "    current_column = data[column]\n",
    "\n",
    "    if pd.api.types.is_any_real_numeric_dtype(current_column): #found a integer column\n",
    "        avg = current_column.mean()\n",
    "        sd = current_column.std()\n",
    "        z_score = (current_column - avg) / sd\n",
    "        data_with_z[f'Z-score-of-{column}'] = z_score\n",
    "        z_columns.append(f'Z-score-of-{column}')\n",
    "print(data_with_z)"
   ]
  },
  {
   "cell_type": "code",
   "execution_count": null,
   "metadata": {},
   "outputs": [],
   "source": []
  }
 ],
 "metadata": {
  "kernelspec": {
   "display_name": "Python 3",
   "language": "python",
   "name": "python3"
  },
  "language_info": {
   "codemirror_mode": {
    "name": "ipython",
    "version": 3
   },
   "file_extension": ".py",
   "mimetype": "text/x-python",
   "name": "python",
   "nbconvert_exporter": "python",
   "pygments_lexer": "ipython3",
   "version": "3.12.5"
  }
 },
 "nbformat": 4,
 "nbformat_minor": 2
}
